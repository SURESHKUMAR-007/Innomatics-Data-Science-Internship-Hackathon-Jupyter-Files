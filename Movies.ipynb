{
 "cells": [
  {
   "cell_type": "code",
   "execution_count": 1,
   "metadata": {},
   "outputs": [
    {
     "name": "stdout",
     "output_type": "stream",
     "text": [
      "Shape of movies.csv: (9742, 3)\n",
      "Shape of ratings.csv: (100836, 4)\n"
     ]
    }
   ],
   "source": [
    "import pandas as pd\n",
    "\n",
    "# Load the CSV files\n",
    "movies_df = pd.read_csv('C://Users//D.SURESH KUMAR//Desktop//movie_data//movies.csv')\n",
    "ratings_df = pd.read_csv('C://Users//D.SURESH KUMAR//Desktop//movie_data//ratings.csv')\n",
    "\n",
    "# Get the shapes of the dataframes\n",
    "movies_shape = movies_df.shape\n",
    "ratings_shape = ratings_df.shape\n",
    "\n",
    "print(f\"Shape of movies.csv: {movies_shape}\")\n",
    "print(f\"Shape of ratings.csv: {ratings_shape}\")\n"
   ]
  },
  {
   "cell_type": "code",
   "execution_count": 2,
   "metadata": {},
   "outputs": [
    {
     "name": "stdout",
     "output_type": "stream",
     "text": [
      "Number of unique userIds: 610\n"
     ]
    }
   ],
   "source": [
    "unique_user_ids = ratings_df['userId'].nunique()\n",
    "print(f\"Number of unique userIds: {unique_user_ids}\")\n"
   ]
  },
  {
   "cell_type": "code",
   "execution_count": 3,
   "metadata": {},
   "outputs": [
    {
     "name": "stdout",
     "output_type": "stream",
     "text": [
      "Movie with maximum number of user ratings: Forrest Gump (1994)\n"
     ]
    }
   ],
   "source": [
    "# Group by movieId and count the number of ratings\n",
    "movie_ratings_count = ratings_df.groupby('movieId').size()\n",
    "\n",
    "# Merge with movies_df to get movie titles\n",
    "movie_ratings = movie_ratings_count.reset_index(name='num_ratings')\n",
    "movie_ratings_with_titles = movie_ratings.merge(movies_df, on='movieId')\n",
    "\n",
    "# Find the movie with the maximum number of ratings\n",
    "most_rated_movie = movie_ratings_with_titles.loc[movie_ratings_with_titles['num_ratings'].idxmax()]\n",
    "print(f\"Movie with maximum number of user ratings: {most_rated_movie['title']}\")\n"
   ]
  },
  {
   "cell_type": "code",
   "execution_count": 4,
   "metadata": {},
   "outputs": [
    {
     "name": "stdout",
     "output_type": "stream",
     "text": [
      "['martial arts', 'sci-fi', 'alternate universe', 'philosophy', 'post apocalyptic']\n"
     ]
    }
   ],
   "source": [
    "# Assuming a tags dataframe exists\n",
    "tags_df = pd.read_csv('tags.csv')  # Load your tags dataset\n",
    "\n",
    "# Get movieId for \"Matrix, The (1999)\"\n",
    "matrix_movie_id = movies_df[movies_df['title'] == \"Matrix, The (1999)\"]['movieId'].values[0]\n",
    "\n",
    "# Get tags for \"Matrix, The (1999)\"\n",
    "matrix_tags = tags_df[tags_df['movieId'] == matrix_movie_id]\n",
    "print(matrix_tags['tag'].tolist())\n"
   ]
  },
  {
   "cell_type": "code",
   "execution_count": 5,
   "metadata": {},
   "outputs": [
    {
     "name": "stdout",
     "output_type": "stream",
     "text": [
      "Average user rating for Terminator 2: Judgment Day (1991): 3.970982142857143\n"
     ]
    }
   ],
   "source": [
    "# Get movieId for \"Terminator 2: Judgment Day (1991)\"\n",
    "terminator_movie_id = movies_df[movies_df['title'] == \"Terminator 2: Judgment Day (1991)\"]['movieId'].values[0]\n",
    "\n",
    "# Calculate the average rating\n",
    "average_rating = ratings_df[ratings_df['movieId'] == terminator_movie_id]['rating'].mean()\n",
    "print(f\"Average user rating for Terminator 2: Judgment Day (1991): {average_rating}\")\n"
   ]
  },
  {
   "cell_type": "code",
   "execution_count": 6,
   "metadata": {},
   "outputs": [
    {
     "name": "stderr",
     "output_type": "stream",
     "text": [
      "C:\\Users\\D.SURESH KUMAR\\AppData\\Roaming\\Python\\Python311\\site-packages\\seaborn\\_oldcore.py:1498: FutureWarning: is_categorical_dtype is deprecated and will be removed in a future version. Use isinstance(dtype, CategoricalDtype) instead\n",
      "  if pd.api.types.is_categorical_dtype(vector):\n",
      "C:\\Users\\D.SURESH KUMAR\\AppData\\Roaming\\Python\\Python311\\site-packages\\seaborn\\_oldcore.py:1119: FutureWarning: use_inf_as_na option is deprecated and will be removed in a future version. Convert inf values to NaN before operating instead.\n",
      "  with pd.option_context('mode.use_inf_as_na', True):\n"
     ]
    },
    {
     "data": {
      "image/png": "[encoded data removed]",
      "text/plain": [
       "<Figure size 640x480 with 1 Axes>"
      ]
     },
     "metadata": {},
     "output_type": "display_data"
    }
   ],
   "source": [
    "import matplotlib.pyplot as plt\n",
    "import seaborn as sns\n",
    "\n",
    "# Get movieId for \"Fight Club (1999)\"\n",
    "fight_club_movie_id = movies_df[movies_df['title'] == \"Fight Club (1999)\"]['movieId'].values[0]\n",
    "\n",
    "# Plot the distribution of ratings\n",
    "ratings_fight_club = ratings_df[ratings_df['movieId'] == fight_club_movie_id]['rating']\n",
    "sns.histplot(ratings_fight_club, kde=True)\n",
    "plt.title(\"Distribution of Ratings for Fight Club (1999)\")\n",
    "plt.xlabel(\"Rating\")\n",
    "plt.ylabel(\"Frequency\")\n",
    "plt.show()\n"
   ]
  },
  {
   "cell_type": "code",
   "execution_count": 7,
   "metadata": {},
   "outputs": [],
   "source": [
    "# Group by movieId and calculate count and mean\n",
    "movie_ratings_summary = ratings_df.groupby('movieId').agg({'rating': ['count', 'mean']})\n",
    "movie_ratings_summary.columns = ['num_ratings', 'average_rating']\n",
    "movie_ratings_summary.reset_index(inplace=True)\n",
    "\n",
    "# Merge with movies_df\n",
    "movies_ratings_summary = movie_ratings_summary.merge(movies_df, on='movieId')\n",
    "\n",
    "# Filter movies with more than 50 ratings\n",
    "popular_movies = movies_ratings_summary[movies_ratings_summary['num_ratings'] > 50]\n"
   ]
  },
  {
   "cell_type": "code",
   "execution_count": 8,
   "metadata": {},
   "outputs": [
    {
     "name": "stdout",
     "output_type": "stream",
     "text": [
      "Most popular movie based on average user ratings: Shawshank Redemption, The (1994)\n"
     ]
    }
   ],
   "source": [
    "# Find the movie with the highest average rating\n",
    "most_popular_movie = popular_movies.loc[popular_movies['average_rating'].idxmax()]\n",
    "print(f\"Most popular movie based on average user ratings: {most_popular_movie['title']}\")\n"
   ]
  },
  {
   "cell_type": "code",
   "execution_count": 9,
   "metadata": {},
   "outputs": [
    {
     "name": "stdout",
     "output_type": "stream",
     "text": [
      "Top 5 popular movies based on number of user ratings:\n",
      "                                 title  num_ratings\n",
      "314                Forrest Gump (1994)          329\n",
      "277   Shawshank Redemption, The (1994)          317\n",
      "257                Pulp Fiction (1994)          307\n",
      "510   Silence of the Lambs, The (1991)          279\n",
      "1938                Matrix, The (1999)          278\n"
     ]
    }
   ],
   "source": [
    "# Get top 5 movies based on number of ratings\n",
    "top_5_popular_movies = popular_movies.sort_values(by='num_ratings', ascending=False).head(5)\n",
    "print(\"Top 5 popular movies based on number of user ratings:\")\n",
    "print(top_5_popular_movies[['title', 'num_ratings']])\n"
   ]
  },
  {
   "cell_type": "code",
   "execution_count": 10,
   "metadata": {},
   "outputs": [
    {
     "name": "stdout",
     "output_type": "stream",
     "text": [
      "Third most popular Sci-Fi movie: Jurassic Park (1993)\n"
     ]
    }
   ],
   "source": [
    "# Filter Sci-Fi movies\n",
    "sci_fi_movies = popular_movies[popular_movies['genres'].str.contains('Sci-Fi')]\n",
    "\n",
    "# Find the third most popular Sci-Fi movie\n",
    "third_most_popular_sci_fi = sci_fi_movies.sort_values(by='num_ratings', ascending=False).iloc[2]\n",
    "print(f\"Third most popular Sci-Fi movie: {third_most_popular_sci_fi['title']}\")\n"
   ]
  }
 ],
 "metadata": {
  "kernelspec": {
   "display_name": "Python 3",
   "language": "python",
   "name": "python3"
  },
  "language_info": {
   "codemirror_mode": {
    "name": "ipython",
    "version": 3
   },
   "file_extension": ".py",
   "mimetype": "text/x-python",
   "name": "python",
   "nbconvert_exporter": "python",
   "pygments_lexer": "ipython3",
   "version": "3.11.9"
  }
 },
 "nbformat": 4,
 "nbformat_minor": 2
}
