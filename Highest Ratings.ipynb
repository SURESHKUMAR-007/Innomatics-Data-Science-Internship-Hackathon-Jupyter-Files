{
 "cells": [
  {
   "cell_type": "code",
   "execution_count": 1,
   "metadata": {},
   "outputs": [
    {
     "name": "stdout",
     "output_type": "stream",
     "text": [
      "Movies DataFrame Columns: Index(['movieId', 'title', 'genres'], dtype='object')\n",
      "Links DataFrame Columns: Index(['movieId', 'imdbId', 'tmdbId'], dtype='object')\n",
      "IMDB Ratings DataFrame Columns: Index(['userId', 'movieId', 'rating', 'timestamp'], dtype='object')\n"
     ]
    }
   ],
   "source": [
    "import pandas as pd\n",
    "\n",
    "# Load the CSV files\n",
    "movies_df = pd.read_csv('C://Users//D.SURESH KUMAR//Desktop//movie_data//movies.csv')\n",
    "imdb_ratings_df = pd.read_csv('C://Users//D.SURESH KUMAR//Desktop//movie_data//ratings.csv')\n",
    "\n",
    "links_df = pd.read_csv('C://Users//D.SURESH KUMAR//Desktop//movie_data//links.csv')\n",
    "#imdb_ratings_df = pd.read_csv('imdb_ratings.csv')  # Replace with your actual file name\n",
    "\n",
    "# Print column names to verify\n",
    "print(\"Movies DataFrame Columns:\", movies_df.columns)\n",
    "print(\"Links DataFrame Columns:\", links_df.columns)\n",
    "print(\"IMDB Ratings DataFrame Columns:\", imdb_ratings_df.columns)\n"
   ]
  },
  {
   "cell_type": "code",
   "execution_count": 2,
   "metadata": {},
   "outputs": [
    {
     "name": "stdout",
     "output_type": "stream",
     "text": [
      "   movieId                               title  \\\n",
      "0        1                    Toy Story (1995)   \n",
      "1        2                      Jumanji (1995)   \n",
      "2        3             Grumpier Old Men (1995)   \n",
      "3        4            Waiting to Exhale (1995)   \n",
      "4        5  Father of the Bride Part II (1995)   \n",
      "\n",
      "                                        genres  \n",
      "0  Adventure|Animation|Children|Comedy|Fantasy  \n",
      "1                   Adventure|Children|Fantasy  \n",
      "2                               Comedy|Romance  \n",
      "3                         Comedy|Drama|Romance  \n",
      "4                                       Comedy  \n",
      "   movieId  imdbId   tmdbId\n",
      "0        1  114709    862.0\n",
      "1        2  113497   8844.0\n",
      "2        3  113228  15602.0\n",
      "3        4  114885  31357.0\n",
      "4        5  113041  11862.0\n",
      "   userId  movieId  rating  timestamp\n",
      "0       1        1     4.0  964982703\n",
      "1       1        3     4.0  964981247\n",
      "2       1        6     4.0  964982224\n",
      "3       1       47     5.0  964983815\n",
      "4       1       50     5.0  964982931\n"
     ]
    }
   ],
   "source": [
    "# Print first few rows to understand the data\n",
    "print(movies_df.head())\n",
    "print(links_df.head())\n",
    "print(imdb_ratings_df.head())\n"
   ]
  },
  {
   "cell_type": "code",
   "execution_count": 4,
   "metadata": {},
   "outputs": [
    {
     "name": "stdout",
     "output_type": "stream",
     "text": [
      "   movieId             title                                       genres  \\\n",
      "0        1  Toy Story (1995)  Adventure|Animation|Children|Comedy|Fantasy   \n",
      "1        1  Toy Story (1995)  Adventure|Animation|Children|Comedy|Fantasy   \n",
      "2        1  Toy Story (1995)  Adventure|Animation|Children|Comedy|Fantasy   \n",
      "3        1  Toy Story (1995)  Adventure|Animation|Children|Comedy|Fantasy   \n",
      "4        1  Toy Story (1995)  Adventure|Animation|Children|Comedy|Fantasy   \n",
      "\n",
      "   imdbId  tmdbId  userId  rating     timestamp  \n",
      "0  114709   862.0     1.0     4.0  9.649827e+08  \n",
      "1  114709   862.0     5.0     4.0  8.474350e+08  \n",
      "2  114709   862.0     7.0     4.5  1.106636e+09  \n",
      "3  114709   862.0    15.0     2.5  1.510578e+09  \n",
      "4  114709   862.0    17.0     4.5  1.305696e+09  \n",
      "Movie ID with the highest IMDB rating: 1\n",
      "Movie ID of the Sci-Fi movie with the highest IMDB rating: 24\n"
     ]
    }
   ],
   "source": [
    "\n",
    "# Merge movies with links to get movieId\n",
    "movies_with_links_df = movies_df.merge(links_df, on='movieId', how='left')\n",
    "\n",
    "# Merge with IMDB ratings\n",
    "movies_with_ratings_df = movies_with_links_df.merge(imdb_ratings_df, on='movieId', how='left')\n",
    "\n",
    "# Print the first few rows to verify the merged data\n",
    "print(movies_with_ratings_df.head())\n",
    "\n",
    "# Find the correct column name for IMDB ratings\n",
    "imdb_rating_column = 'rating'  # Replace with the correct column name if different\n",
    "\n",
    "# Find the movie with the highest IMDB rating\n",
    "if imdb_rating_column in movies_with_ratings_df.columns:\n",
    "    highest_imdb_rating_movie = movies_with_ratings_df.loc[movies_with_ratings_df[imdb_rating_column].idxmax()]\n",
    "    highest_imdb_rating_movie_id = highest_imdb_rating_movie['movieId']\n",
    "    print(f\"Movie ID with the highest IMDB rating: {highest_imdb_rating_movie_id}\")\n",
    "else:\n",
    "    print(f\"The column '{imdb_rating_column}' does not exist in the DataFrame. Please check column names.\")\n",
    "\n",
    "# Filter for Sci-Fi movies\n",
    "sci_fi_movies_df = movies_with_ratings_df[movies_with_ratings_df['genres'].str.contains('Sci-Fi', na=False)]\n",
    "\n",
    "# Find the Sci-Fi movie with the highest IMDB rating\n",
    "if not sci_fi_movies_df.empty:\n",
    "    highest_imdb_rating_sci_fi_movie = sci_fi_movies_df.loc[sci_fi_movies_df[imdb_rating_column].idxmax()]\n",
    "    highest_imdb_rating_sci_fi_movie_id = highest_imdb_rating_sci_fi_movie['movieId']\n",
    "    print(f\"Movie ID of the Sci-Fi movie with the highest IMDB rating: {highest_imdb_rating_sci_fi_movie_id}\")\n",
    "else:\n",
    "    print(\"No Sci-Fi movies found in the dataset.\")\n"
   ]
  }
 ],
 "metadata": {
  "kernelspec": {
   "display_name": "Python 3",
   "language": "python",
   "name": "python3"
  },
  "language_info": {
   "codemirror_mode": {
    "name": "ipython",
    "version": 3
   },
   "file_extension": ".py",
   "mimetype": "text/x-python",
   "name": "python",
   "nbconvert_exporter": "python",
   "pygments_lexer": "ipython3",
   "version": "3.11.9"
  }
 },
 "nbformat": 4,
 "nbformat_minor": 2
}
